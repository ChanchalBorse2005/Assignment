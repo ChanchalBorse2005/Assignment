{
  "nbformat": 4,
  "nbformat_minor": 0,
  "metadata": {
    "colab": {
      "provenance": []
    },
    "kernelspec": {
      "name": "python3",
      "display_name": "Python 3"
    },
    "language_info": {
      "name": "python"
    }
  },
  "cells": [
    {
      "cell_type": "code",
      "execution_count": null,
      "metadata": {
        "id": "PG3eN9f9bLAf"
      },
      "outputs": [],
      "source": [
        "#1.\n",
        "def number():\n",
        "  user_input = input(\"enter the numbers:\")\n",
        "  numbers = list(map((int,numbers.split())))\n",
        "  even_numbers = filter(lambda x: x%2==0,numbers)\n",
        "  return sum(even_numbers)\n",
        "result = number()\n",
        "print(result)"
      ]
    },
    {
      "cell_type": "code",
      "source": [
        "#2\n",
        "def string (input_string):\n",
        "  return input_string[::-1]\n",
        "user_input = input(\"enter a string\")\n",
        "string = string(user_input)\n",
        "print(\"reverse string is \",string)"
      ],
      "metadata": {
        "colab": {
          "base_uri": "https://localhost:8080/"
        },
        "id": "vYsByVmvbMxk",
        "outputId": "ff6d5e84-4554-4ba9-c23d-d3b3c77948e6"
      },
      "execution_count": null,
      "outputs": [
        {
          "output_type": "stream",
          "name": "stdout",
          "text": [
            "enter a stringchanchal\n",
            "reverse string is  lahcnahc\n"
          ]
        }
      ]
    },
    {
      "cell_type": "code",
      "source": [
        "#3\n",
        "def square_number(number):\n",
        "  'returns a new list'\n",
        "  square_number =[number**2 for num in number]\n",
        "  return number\n",
        "number = [numbers]\n",
        "square = square_number(number)\n",
        "print(square)"
      ],
      "metadata": {
        "id": "NYApXNPwcxaP",
        "colab": {
          "base_uri": "https://localhost:8080/",
          "height": 211
        },
        "outputId": "612d4922-1b93-43a0-eae7-099c00e4a1f7"
      },
      "execution_count": null,
      "outputs": [
        {
          "ename": "NameError",
          "evalue": "name 'number' is not defined",
          "output_type": "error",
          "traceback": [
            "\u001b[0;31m---------------------------------------------------------------------------\u001b[0m",
            "\u001b[0;31mNameError\u001b[0m                                 Traceback (most recent call last)",
            "\u001b[0;32m<ipython-input-2-b25269c29eaa>\u001b[0m in \u001b[0;36m<cell line: 6>\u001b[0;34m()\u001b[0m\n\u001b[1;32m      4\u001b[0m   \u001b[0msquare_number\u001b[0m \u001b[0;34m=\u001b[0m\u001b[0;34m[\u001b[0m\u001b[0mnumber\u001b[0m\u001b[0;34m**\u001b[0m\u001b[0;36m2\u001b[0m \u001b[0;32mfor\u001b[0m \u001b[0mnum\u001b[0m \u001b[0;32min\u001b[0m \u001b[0mnumber\u001b[0m\u001b[0;34m]\u001b[0m\u001b[0;34m\u001b[0m\u001b[0;34m\u001b[0m\u001b[0m\n\u001b[1;32m      5\u001b[0m   \u001b[0;32mreturn\u001b[0m \u001b[0mnumber\u001b[0m\u001b[0;34m\u001b[0m\u001b[0;34m\u001b[0m\u001b[0m\n\u001b[0;32m----> 6\u001b[0;31m \u001b[0mnumber\u001b[0m \u001b[0;34m=\u001b[0m \u001b[0;34m[\u001b[0m\u001b[0mnumber\u001b[0m\u001b[0;34m]\u001b[0m\u001b[0;34m\u001b[0m\u001b[0;34m\u001b[0m\u001b[0m\n\u001b[0m\u001b[1;32m      7\u001b[0m \u001b[0msquare\u001b[0m \u001b[0;34m=\u001b[0m \u001b[0msquare_number\u001b[0m\u001b[0;34m(\u001b[0m\u001b[0mnumber\u001b[0m\u001b[0;34m)\u001b[0m\u001b[0;34m\u001b[0m\u001b[0;34m\u001b[0m\u001b[0m\n\u001b[1;32m      8\u001b[0m \u001b[0mprint\u001b[0m\u001b[0;34m(\u001b[0m\u001b[0msquare\u001b[0m\u001b[0;34m)\u001b[0m\u001b[0;34m\u001b[0m\u001b[0;34m\u001b[0m\u001b[0m\n",
            "\u001b[0;31mNameError\u001b[0m: name 'number' is not defined"
          ]
        }
      ]
    },
    {
      "cell_type": "code",
      "source": [
        "from typing import is_typeddict\n",
        "#4\n",
        "def prime(num):\n",
        "  \"if number is prime\"\n",
        "  if num<2:\n",
        "    return False\n",
        "    for i in range (2,int (number **0.5)+1):\n",
        "      if num % i == 0:\n",
        "        return False\n",
        "        return True\n",
        "      number = int (input(\"enter a number between  1 and 3\"))\n",
        "      if 1 <=number <=200:\n",
        "        if is_prime(number):\n",
        "          print(f\"{number}is prime number\")\n",
        "        else:\n",
        "            print(f\"{number}is not a prime number\")\n",
        "      else:\n",
        "        print(\"please enter a number between 1 and 200\")\n",
        "\n"
      ],
      "metadata": {
        "id": "VSTsjv7VeA8T"
      },
      "execution_count": null,
      "outputs": []
    },
    {
      "cell_type": "code",
      "source": [
        "#5\n",
        "class fibonacci:\n",
        "  def__init__(self,n):\n",
        "  self.n = n\n",
        "  self.fib_list = [0,1]\n",
        "  def generate_fibonacci(self):\n",
        "    while len(self.fib_list)<self.n:\n",
        "      next_num = self.fib_list[-1]+self.fib_list[-2]\n",
        "      self.fib_list.append(next_num)\n"
      ],
      "metadata": {
        "id": "3mQ-j0omLkfZ"
      },
      "execution_count": null,
      "outputs": []
    },
    {
      "cell_type": "code",
      "source": [
        "#6\n",
        "def power(max_number):\n",
        "  for exponent in range (max_number +1):\n",
        "    range(max_number+1)\n",
        "    yield 2** exponent\n",
        "    n = int(input(\"enter the maximum exponent\"))\n",
        "    for value in power(n):\n",
        "      print(value)\n"
      ],
      "metadata": {
        "id": "OXl-_TsaNUeH"
      },
      "execution_count": null,
      "outputs": []
    }
  ]
}