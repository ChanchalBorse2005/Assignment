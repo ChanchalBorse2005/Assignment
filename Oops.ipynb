{
  "nbformat": 4,
  "nbformat_minor": 0,
  "metadata": {
    "colab": {
      "provenance": []
    },
    "kernelspec": {
      "name": "python3",
      "display_name": "Python 3"
    },
    "language_info": {
      "name": "python"
    }
  },
  "cells": [
    {
      "cell_type": "markdown",
      "source": [
        "1.This following are concept of Object-oriented programming:\n",
        "\n",
        "Class: a class is a blueprint for creating objects.It defines a set of attributes and methods.\n",
        "\n",
        "Objects: an object is an instance of class.Object is real-world entities.\n",
        "\n",
        "Inheritance: When one class(child) inherit from another class(parent)\n",
        "then it is known Inheritance.\n",
        "\n",
        "Encapsulation: Bunding data and methods into a single unit ,usually a class. Encapsulation is access using private and public access modifiers.\n",
        "\n",
        "Polymorphism: polymorphism means many forms, allows objects of different classes to be treated as objects of a common superclass.\n",
        "\n",
        "Abstraction:Concept of hiding complex implementation and showing only essential features.In python we achieve abstraction using abstract classes\n",
        "\n",
        "\n"
      ],
      "metadata": {
        "id": "vc-VckTqtq7F"
      }
    },
    {
      "cell_type": "code",
      "source": [
        "#2.\n",
        "class Car:\n",
        "  def __init__(self,make,model,year):\n",
        "    self.make = make\n",
        "    self.model = model\n",
        "    self.year = year\n",
        "  def display_info(self):\n",
        "    print(\"Car Make:\",self.make)\n",
        "    print(\"Car Model:\",self.model)\n",
        "    print(\"Car Year:\",self.year)\n",
        "car = Car(\"jeep\",\"honda\",\"2024\")\n",
        "car.display_info()\n",
        "\n",
        "\n"
      ],
      "metadata": {
        "id": "4C7WcdlU12iW",
        "colab": {
          "base_uri": "https://localhost:8080/"
        },
        "outputId": "b823eee2-c04e-43a3-e49e-4fc23e50be38"
      },
      "execution_count": null,
      "outputs": [
        {
          "output_type": "stream",
          "name": "stdout",
          "text": [
            "Car Make: jeep\n",
            "Car Model: honda\n",
            "Car Year: 2024\n"
          ]
        }
      ]
    },
    {
      "cell_type": "markdown",
      "source": [
        "3.Instance methode : An instance method is a method that operates on an instance of a class .Instance method can access and modify instance attributes.\n",
        "\n",
        "\n",
        "Class methode : A class method operates on class itself , not on a specific instance.It's defined with the @classmethod decorator and uses cls as its first parameter.\n",
        "\n",
        "Instance method can access with a specific objects and Class method works with class itself."
      ],
      "metadata": {
        "id": "U0tpM1UjMHAJ"
      }
    },
    {
      "cell_type": "code",
      "source": [
        "from types import ClassMethodDescriptorType\n",
        "\n",
        "#Instance method\n",
        "class Book:\n",
        "  def __init__(self,type,writer):\n",
        "    self.type = type\n",
        "    self.writer = writer\n",
        "  def display_info(self):\n",
        "    print(\"This book name is\",self.type)\n",
        "b1 = Book(\"Good girl\",\"Rework\")\n",
        "b1.display_info()\n",
        "\n",
        "#Class method\n",
        "class Book:\n",
        "  total_book =0\n",
        "  def __init__(self,name,writer):\n",
        "    self.name = name\n",
        "    self.writer = writer\n",
        "    Book.total_book = Book.total_book+1\n",
        "  @classmethod\n",
        "  def get_total_books(cls):\n",
        "    return cls.total_book\n",
        "b = Book(\"Life\",\"XY\")\n",
        "b2 = Book(\"Lie\",\"YZ\")\n",
        "print(Book.get_total_books())\n",
        "\n",
        "\n"
      ],
      "metadata": {
        "colab": {
          "base_uri": "https://localhost:8080/"
        },
        "id": "4iEzBsCvOlVT",
        "outputId": "627d6f8c-9c8e-4f92-814c-9a890abe4516"
      },
      "execution_count": null,
      "outputs": [
        {
          "output_type": "stream",
          "name": "stdout",
          "text": [
            "This book name is Good girl\n",
            "2\n"
          ]
        }
      ]
    },
    {
      "cell_type": "markdown",
      "source": [
        "4.In python method overloading is not directly supported as in some other programming languages.but you can implement  by using default argument,variable-\n",
        "length argument."
      ],
      "metadata": {
        "id": "VsqK5bISYOIw"
      }
    },
    {
      "cell_type": "code",
      "source": [
        "#4\n",
        "class methods:\n",
        "  def add(self,a,b,c=0):\n",
        "    return a+b+c\n",
        "mth = methods()\n",
        "print(mth.add(6,3,7))\n",
        "print(mth.add(3,4))"
      ],
      "metadata": {
        "id": "wOmfrPgDZJSB",
        "colab": {
          "base_uri": "https://localhost:8080/"
        },
        "outputId": "00fc7c64-d948-43d2-cbbf-452a04cc97ec"
      },
      "execution_count": null,
      "outputs": [
        {
          "output_type": "stream",
          "name": "stdout",
          "text": [
            "16\n",
            "7\n"
          ]
        }
      ]
    },
    {
      "cell_type": "markdown",
      "source": [
        "5.Access modifiers control the visibility or accessibility of variables and methods within class .python has three type of access modifiers:\n",
        "\n",
        "public: Accessible from anywhere.it is accessible from both inside and outside the class.\n",
        "\n",
        "protected :Accessible within the class or subclass. method name with a single underscore(_).\n",
        "\n",
        "private : Accessible only with in class.method name with double underscore(__)\n"
      ],
      "metadata": {
        "id": "AHIYi8DFaorl"
      }
    },
    {
      "cell_type": "markdown",
      "source": [
        "6.Type of inheritance:\n",
        "\n",
        "1.simple inheritance : When a class inherit from only one parent class.\n",
        "\n",
        "2.multiple inheritance : When class inherit from more than one class.this allows\n",
        "the derives class to combine features of multiple classes.\n",
        "\n",
        "3.multilevel inheritance :  A class inherits from another class , which in turn  inherits from another class.\n",
        "\n",
        "4.hierarchical inheritance : multiple classes  inherit from  a single parent class.\n",
        "\n",
        "5.hybrid inheritance : it is combination of multiple types of inheritance,such as combining multilevel and multiple."
      ],
      "metadata": {
        "id": "QZI-Klf13fD2"
      }
    },
    {
      "cell_type": "code",
      "source": [
        "#6\n",
        "class Parent1:\n",
        "  def method1(self):\n",
        "    print(\"moms character\")\n",
        "class Parent2:\n",
        "  def method2(self):\n",
        "    print(\"dads character\")\n",
        "class Child(Parent1,Parent2):\n",
        "  def method(self):\n",
        "    print(\"All character in child\")\n",
        "c1 = Child()\n",
        "c1.method2()"
      ],
      "metadata": {
        "colab": {
          "base_uri": "https://localhost:8080/"
        },
        "id": "VdTW9xEL7MJr",
        "outputId": "ed2c288e-e71b-4006-d9ce-494a13f3795c"
      },
      "execution_count": null,
      "outputs": [
        {
          "output_type": "stream",
          "name": "stdout",
          "text": [
            "dads character\n"
          ]
        }
      ]
    },
    {
      "cell_type": "markdown",
      "source": [
        "7.In python Method resolution Order is the order in which python looks for methods and attributes in class.MRO ensures that methods are resolved in predictable  order,avoiding potential conflicts.\n",
        "you can retrieve the MRO of class using .mro() method or the attribute."
      ],
      "metadata": {
        "id": "ykgkaQeerCfc"
      }
    },
    {
      "cell_type": "code",
      "source": [
        "#8\n",
        "from abc import ABC , abstractmethod\n",
        "import math\n",
        "class Shape(ABC):\n",
        "  @abstractmethod\n",
        "  def area(self):\n",
        "    pass\n",
        "class Circle(Shape):\n",
        "  def __init__(self,radius):\n",
        "    self.radius = radius\n",
        "  def Area(self):\n",
        "    return math.pi*(self.radius ** 2)\n",
        "class Rectangle(Shape):\n",
        "  def __init__(self,length,width):\n",
        "    self.length = length\n",
        "    self.width = width\n",
        "  def Area(self):\n",
        "    return self.length*self.width\n",
        "circle = Circle(5)\n",
        "rectangle = Rectangle(2,5)\n",
        "print(\"area of circle\",circle.area())\n",
        "print(\"area of rectangle\",rectangle.area())\n",
        "\n"
      ],
      "metadata": {
        "colab": {
          "base_uri": "https://localhost:8080/",
          "height": 211
        },
        "id": "4kN9b172uGoA",
        "outputId": "66c488d8-8c75-49ca-9963-7d998fa0c2dd"
      },
      "execution_count": 17,
      "outputs": [
        {
          "output_type": "error",
          "ename": "TypeError",
          "evalue": "Can't instantiate abstract class Circle with abstract method area",
          "traceback": [
            "\u001b[0;31m---------------------------------------------------------------------------\u001b[0m",
            "\u001b[0;31mTypeError\u001b[0m                                 Traceback (most recent call last)",
            "\u001b[0;32m<ipython-input-17-abe306fd7f6e>\u001b[0m in \u001b[0;36m<cell line: 19>\u001b[0;34m()\u001b[0m\n\u001b[1;32m     17\u001b[0m   \u001b[0;32mdef\u001b[0m \u001b[0mArea\u001b[0m\u001b[0;34m(\u001b[0m\u001b[0mself\u001b[0m\u001b[0;34m)\u001b[0m\u001b[0;34m:\u001b[0m\u001b[0;34m\u001b[0m\u001b[0;34m\u001b[0m\u001b[0m\n\u001b[1;32m     18\u001b[0m     \u001b[0;32mreturn\u001b[0m \u001b[0mself\u001b[0m\u001b[0;34m.\u001b[0m\u001b[0mlength\u001b[0m\u001b[0;34m*\u001b[0m\u001b[0mself\u001b[0m\u001b[0;34m.\u001b[0m\u001b[0mwidth\u001b[0m\u001b[0;34m\u001b[0m\u001b[0;34m\u001b[0m\u001b[0m\n\u001b[0;32m---> 19\u001b[0;31m \u001b[0mcircle\u001b[0m \u001b[0;34m=\u001b[0m \u001b[0mCircle\u001b[0m\u001b[0;34m(\u001b[0m\u001b[0;36m5\u001b[0m\u001b[0;34m)\u001b[0m\u001b[0;34m\u001b[0m\u001b[0;34m\u001b[0m\u001b[0m\n\u001b[0m\u001b[1;32m     20\u001b[0m \u001b[0mrectangle\u001b[0m \u001b[0;34m=\u001b[0m \u001b[0mRectangle\u001b[0m\u001b[0;34m(\u001b[0m\u001b[0;36m2\u001b[0m\u001b[0;34m,\u001b[0m\u001b[0;36m5\u001b[0m\u001b[0;34m)\u001b[0m\u001b[0;34m\u001b[0m\u001b[0;34m\u001b[0m\u001b[0m\n\u001b[1;32m     21\u001b[0m \u001b[0mprint\u001b[0m\u001b[0;34m(\u001b[0m\u001b[0;34m\"area of circle\"\u001b[0m\u001b[0;34m,\u001b[0m\u001b[0mcircle\u001b[0m\u001b[0;34m.\u001b[0m\u001b[0marea\u001b[0m\u001b[0;34m(\u001b[0m\u001b[0;34m)\u001b[0m\u001b[0;34m)\u001b[0m\u001b[0;34m\u001b[0m\u001b[0;34m\u001b[0m\u001b[0m\n",
            "\u001b[0;31mTypeError\u001b[0m: Can't instantiate abstract class Circle with abstract method area"
          ]
        }
      ]
    },
    {
      "cell_type": "markdown",
      "source": [
        "9.It allows us to create a function that works with different types of objects in unified way."
      ],
      "metadata": {
        "id": "RWMGn3zVyOCH"
      }
    },
    {
      "cell_type": "code",
      "source": [
        "#9\n",
        "from abc import ABC, abstractmethod\n",
        "class Shape(ABC):\n",
        "    @abstractmethod\n",
        "    def Area(self):\n",
        "        pass\n",
        "class Circle(Shape):\n",
        "    def __init__(self, radius):\n",
        "        self.radius = radius\n",
        "\n",
        "    def Area(self):\n",
        "        return 3.14 * self.radius ** 2\n",
        "class Square(Shape):\n",
        "    def __init__(self, side):\n",
        "        self.side = side\n",
        "\n",
        "    def Area(self):\n",
        "        return self.side ** 2\n",
        "def print_area(shape):\n",
        "    print(\"Area:\", shape.Area())\n",
        "circle = Circle(5)\n",
        "square = Square(4)\n",
        "print_area(circle)\n",
        "print_area(square)"
      ],
      "metadata": {
        "colab": {
          "base_uri": "https://localhost:8080/"
        },
        "id": "xYjrDjXCz8DM",
        "outputId": "3c4ea41c-2bda-41dc-89bc-d94e68f1259d"
      },
      "execution_count": 14,
      "outputs": [
        {
          "output_type": "stream",
          "name": "stdout",
          "text": [
            "Area: 78.5\n",
            "Area: 16\n"
          ]
        }
      ]
    },
    {
      "cell_type": "code",
      "source": [
        "#10\n"
      ],
      "metadata": {
        "id": "7HyvSH3g0aPr"
      },
      "execution_count": null,
      "outputs": []
    },
    {
      "cell_type": "markdown",
      "source": [
        "11.__str = this method allows you to define how object should be represent as string .\n",
        "\n",
        "__add = this method allows you to define how an object behaves when you use + operator\n",
        "\n",
        "__magic = this method is also known as dunder methods that allows objects to behave more like built_in type."
      ],
      "metadata": {
        "id": "fZ3mcIq52lQM"
      }
    },
    {
      "cell_type": "code",
      "source": [
        "#12\n",
        "import time\n",
        "\n",
        "def measure_time(func):\n",
        "    def wrapper(*args, **kwargs):\n",
        "        start_time = time.time()\n",
        "        result = func(*args, **kwargs)\n",
        "        end_time = time.time()\n",
        "        execution_time = end_time - start_time\n",
        "        print(f\"Execution time of {func.__name_}: {execution_time:.4f} seconds\")\n",
        "        return result\n",
        "    return wrapper\n",
        "@measure_time\n",
        "def example_function():\n",
        "    for _ in range(1000000):\n",
        "        pass\n",
        "\n",
        "example_function()"
      ],
      "metadata": {
        "colab": {
          "base_uri": "https://localhost:8080/",
          "height": 297
        },
        "id": "M8iSyLwT4f-4",
        "outputId": "b80e4cdf-dc66-4e20-86b9-c61270ac41c5"
      },
      "execution_count": 24,
      "outputs": [
        {
          "output_type": "error",
          "ename": "AttributeError",
          "evalue": "'function' object has no attribute '__name_'",
          "traceback": [
            "\u001b[0;31m---------------------------------------------------------------------------\u001b[0m",
            "\u001b[0;31mAttributeError\u001b[0m                            Traceback (most recent call last)",
            "\u001b[0;32m<ipython-input-24-037827668ec7>\u001b[0m in \u001b[0;36m<cell line: 18>\u001b[0;34m()\u001b[0m\n\u001b[1;32m     16\u001b[0m         \u001b[0;32mpass\u001b[0m\u001b[0;34m\u001b[0m\u001b[0;34m\u001b[0m\u001b[0m\n\u001b[1;32m     17\u001b[0m \u001b[0;34m\u001b[0m\u001b[0m\n\u001b[0;32m---> 18\u001b[0;31m \u001b[0mexample_function\u001b[0m\u001b[0;34m(\u001b[0m\u001b[0;34m)\u001b[0m\u001b[0;34m\u001b[0m\u001b[0;34m\u001b[0m\u001b[0m\n\u001b[0m",
            "\u001b[0;32m<ipython-input-24-037827668ec7>\u001b[0m in \u001b[0;36mwrapper\u001b[0;34m(*args, **kwargs)\u001b[0m\n\u001b[1;32m      8\u001b[0m         \u001b[0mend_time\u001b[0m \u001b[0;34m=\u001b[0m \u001b[0mtime\u001b[0m\u001b[0;34m.\u001b[0m\u001b[0mtime\u001b[0m\u001b[0;34m(\u001b[0m\u001b[0;34m)\u001b[0m\u001b[0;34m\u001b[0m\u001b[0;34m\u001b[0m\u001b[0m\n\u001b[1;32m      9\u001b[0m         \u001b[0mexecution_time\u001b[0m \u001b[0;34m=\u001b[0m \u001b[0mend_time\u001b[0m \u001b[0;34m-\u001b[0m \u001b[0mstart_time\u001b[0m\u001b[0;34m\u001b[0m\u001b[0;34m\u001b[0m\u001b[0m\n\u001b[0;32m---> 10\u001b[0;31m         \u001b[0mprint\u001b[0m\u001b[0;34m(\u001b[0m\u001b[0;34mf\"Execution time of {func.__name_}: {execution_time:.4f} seconds\"\u001b[0m\u001b[0;34m)\u001b[0m\u001b[0;34m\u001b[0m\u001b[0;34m\u001b[0m\u001b[0m\n\u001b[0m\u001b[1;32m     11\u001b[0m         \u001b[0;32mreturn\u001b[0m \u001b[0mresult\u001b[0m\u001b[0;34m\u001b[0m\u001b[0;34m\u001b[0m\u001b[0m\n\u001b[1;32m     12\u001b[0m     \u001b[0;32mreturn\u001b[0m \u001b[0mwrapper\u001b[0m\u001b[0;34m\u001b[0m\u001b[0;34m\u001b[0m\u001b[0m\n",
            "\u001b[0;31mAttributeError\u001b[0m: 'function' object has no attribute '__name_'"
          ]
        }
      ]
    },
    {
      "cell_type": "markdown",
      "source": [
        " #13.this problem arrise with multiple inheritance .it occurs when class inhert from more than one class\n",
        " class a is common superclass .\n",
        " class b and class c both inherit from a  and class d inherits from both class b and c.\n",
        "\n",
        " pytho uses MRO  to determine order.you can inspect method resolution order for class using the __mro__attribute or mro()method"
      ],
      "metadata": {
        "id": "Ast9fkIJ59e7"
      }
    },
    {
      "cell_type": "code",
      "source": [
        "#14\n",
        "class Instance:\n",
        "  instance_count = 0\n",
        "  def __init__(self):\n",
        "    Instance.instance_count = Instance.instance_count+1\n",
        "  @classmethod\n",
        "  def get_instance_count(cls):\n",
        "      return cls.instance_count\n",
        "i1 = Instance()\n",
        "i2 = Instance()\n",
        "print(Instance.get_instance_count())\n"
      ],
      "metadata": {
        "colab": {
          "base_uri": "https://localhost:8080/"
        },
        "id": "ab3rDw6Z71o8",
        "outputId": "3c4df305-a842-4647-a964-3c59ae08252c"
      },
      "execution_count": 31,
      "outputs": [
        {
          "output_type": "stream",
          "name": "stdout",
          "text": [
            "2\n"
          ]
        }
      ]
    },
    {
      "cell_type": "code",
      "source": [
        "#15\n",
        "class Year:\n",
        "  @staticmethod\n",
        "  def is_leap(year):\n",
        "    \"check if the year is leap or not\"\n",
        "    if (year % 4 == 0 and year %100 !=0) or (year % 400 == 0):\n",
        "      return True\n",
        "    else:\n",
        "      return False\n",
        "print(Year.is_leap(2024))"
      ],
      "metadata": {
        "colab": {
          "base_uri": "https://localhost:8080/"
        },
        "id": "aqrtO53A978I",
        "outputId": "ec9a0611-f760-4800-f17c-a21b9f8a601c"
      },
      "execution_count": 32,
      "outputs": [
        {
          "output_type": "stream",
          "name": "stdout",
          "text": [
            "True\n"
          ]
        }
      ]
    }
  ]
}