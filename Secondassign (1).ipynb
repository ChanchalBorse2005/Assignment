{
  "nbformat": 4,
  "nbformat_minor": 0,
  "metadata": {
    "colab": {
      "provenance": []
    },
    "kernelspec": {
      "name": "python3",
      "display_name": "Python 3"
    },
    "language_info": {
      "name": "python"
    }
  },
  "cells": [
    {
      "cell_type": "code",
      "source": [
        "#1.String slicing : In python string slicing is the process of extracting a portion of string .string  index strart  from 0,the second at index 1 and so on.we slice string using the slice notation:.\n",
        "text = \"hello,guys\"\n",
        "slice1 = text[1:5]\n",
        "print(slice1)\n",
        "slice2 = text[2:]\n",
        "print(slice2)"
      ],
      "metadata": {
        "colab": {
          "base_uri": "https://localhost:8080/"
        },
        "id": "slhTFFB1LnIN",
        "outputId": "0de9aa3f-c384-4a04-ddb1-959dd90e1282"
      },
      "execution_count": null,
      "outputs": [
        {
          "output_type": "stream",
          "name": "stdout",
          "text": [
            "ello\n",
            "llo,guys\n"
          ]
        }
      ]
    },
    {
      "cell_type": "markdown",
      "source": [
        "list is a data structure in python.\n",
        "\n",
        "2.key features of lists:\n",
        "\n",
        "list can store heterogenous data,meaning they can store items of different types.\n",
        "\n",
        "list is an ordered collection of elements that can be of any data type, each item in a list an indexing start from 0.\n",
        "\n",
        "list are mutable.meaning their elements can be changed ,added or removed after creation.\n",
        "\n",
        "Python list are dynamic in sizw as elements are add or remove there is no fix size of list\n",
        "\n",
        "python lists come with many built-in methods like append(),remove(),pop()."
      ],
      "metadata": {
        "id": "2uNG7krZM2fH"
      }
    },
    {
      "cell_type": "code",
      "source": [
        "#3.access: we can access elements in list using  indexing .index of list start from 0.we can also use negative indexing indicing to access elements.\n",
        "list = [8,7,45,70,88]\n",
        "#using positive indexing\n",
        "print(\"first number\",list[0])\n",
        "#using negative indexing\n",
        "print(\"last number\",list[-1])\n",
        "\n",
        "#modify : we can modify elements in a list by directly assigning new value to an index\n",
        "list[2] = 33\n",
        "print(\"new list\",list)\n",
        "\n",
        "#delecting item :we can delecte element from list using del statement and pop method.\n",
        "del list[0:2]\n",
        "print(\"list after delecting\",list)"
      ],
      "metadata": {
        "colab": {
          "base_uri": "https://localhost:8080/"
        },
        "id": "RuTvisCwShps",
        "outputId": "d37a22b9-25bc-4ec9-f55c-a2a14dfcc437"
      },
      "execution_count": null,
      "outputs": [
        {
          "output_type": "stream",
          "name": "stdout",
          "text": [
            "first number 8\n",
            "last number 88\n",
            "new list [8, 7, 33, 70, 88]\n",
            "list after delecting [33, 70, 88]\n"
          ]
        }
      ]
    },
    {
      "cell_type": "markdown",
      "source": [
        "4.Tuple are ordered collection of items that is immutable,tuple can contain elements of different type.\n",
        "\n",
        "List are ordered collection of item that is mutable,list can contain different data type.\n",
        "\n",
        "  Tuple : Tuple are Immutable.\n",
        "\n",
        "  List : List are Mutable.\n",
        "\n",
        "  Tuple : parathese()\n",
        "\n",
        "  List : Square brackets[]\n",
        "\n",
        "  Tuple : limited Methods\n",
        "\n",
        "  List : many bulid-in methods like append(),extend()."
      ],
      "metadata": {
        "id": "fWeg83NvNngU"
      }
    },
    {
      "cell_type": "code",
      "source": [
        "#4.tuple\n",
        "tuple = (2,4,2,33,\"hi\",\"good\")\n",
        "print (tuple[2])\n",
        "print (tuple.index(2))\n",
        "\n",
        "#list\n",
        "list = [2,11,32,\"hello\",\"guys\"]\n",
        "print (list[2])\n",
        "list.append(\"chanchal\")\n",
        "print(list)"
      ],
      "metadata": {
        "id": "TFCxdyTDTMyA",
        "colab": {
          "base_uri": "https://localhost:8080/"
        },
        "outputId": "8788fac3-c839-4435-e624-c39452550e85"
      },
      "execution_count": null,
      "outputs": [
        {
          "output_type": "stream",
          "name": "stdout",
          "text": [
            "2\n",
            "0\n",
            "32\n",
            "[2, 11, 32, 'hello', 'guys', 'chanchal']\n"
          ]
        }
      ]
    },
    {
      "cell_type": "markdown",
      "source": [
        "5.Sets: sets are unordered and unique collection of elements.\n",
        "It means there will be no indexing .\n",
        "It doesn't allow duplicate elements\n",
        "\n",
        "Set Operation:\n",
        "\n",
        "1.Union = combines elements from two sets exculding duplicates.\n",
        "\n",
        "2.Intersection = returns only common elements  between two sets.\n",
        "\n",
        "3.Difference = return the elements that is present in first set and and not in second set\n",
        "\n",
        "4.Symmetric differenec = return all element other than common\n",
        "\n"
      ],
      "metadata": {
        "id": "nIleWr7aTbQo"
      }
    },
    {
      "cell_type": "code",
      "source": [
        "group_A = {1,2,3,43,12}\n",
        "group_B = {2,3,4}\n",
        "print(\"Union of group_A and group_B\",group_A|group_B)\n",
        "print(\"Intersection  of group_A and group_B\",group_A & group_B)\n",
        "print(\"Difference of group_A and group_B\",group_A - group_B)\n",
        "print(\"Symmetric_difference of group_A and group_B\",group_A^group_B)\n",
        "\n",
        "#Sets with some duplicate value\n",
        "roll_no = {3,2,1,2,1,88}\n",
        "print(\"Original set\",roll_no)\n",
        "\n",
        "\n"
      ],
      "metadata": {
        "colab": {
          "base_uri": "https://localhost:8080/"
        },
        "id": "1Ao9o2kJ5-FB",
        "outputId": "cbf75d3e-741c-4322-b38d-a45192c7a6a8"
      },
      "execution_count": null,
      "outputs": [
        {
          "output_type": "stream",
          "name": "stdout",
          "text": [
            "Union of group_A and group_B {1, 2, 3, 4, 43, 12}\n",
            "Intersection  of group_A and group_B {2, 3}\n",
            "Difference of group_A and group_B {1, 43, 12}\n",
            "Symmetric_difference of group_A and group_B {1, 4, 43, 12}\n",
            "Original set {88, 1, 2, 3}\n"
          ]
        }
      ]
    },
    {
      "cell_type": "markdown",
      "source": [
        "6.Set : set is unordered collection of unique elements.\n",
        "\n",
        "Use cases : Sets are commomnly used to eliminate duplicate values from collection.\n",
        "sets allow fast lookups to check whether an item is there in set or not.\n",
        "set are used to perform mathematical set operation like union,intersection and difference.\n",
        "\n",
        "Tuple : tuple is an ordered collection of items.\n",
        "\n",
        "Use cases : data integrity  when you want to ensure that the collection of data cannot modified that time you can use tuple.\n",
        "tuples are often used for grouping related data.We can use tuple when we want to store data that should remain constant.\n"
      ],
      "metadata": {
        "id": "5bg_uKJD-hMB"
      }
    },
    {
      "cell_type": "code",
      "source": [
        "#6\n",
        "#set:\n",
        "items = [5,7,7,84,8]\n",
        "new_items = set(items)\n",
        "print(new_items)\n",
        "\n",
        "days = {\"monday\",\"friday\",\"monday\",\"saturday\"}\n",
        "if \"monday\" in days:\n",
        "    print(\"monday is there\")\n",
        "#tuple:\n",
        "week = [\"mon\",\"tue\",\"wed\",\"thu\",\"fri\",\"sat\",\"sun\"]\n",
        "for day in week:\n",
        "  print(day)"
      ],
      "metadata": {
        "colab": {
          "base_uri": "https://localhost:8080/"
        },
        "id": "XEdpDRebV1Ad",
        "outputId": "3cdbc9a9-6c68-40ba-8ec6-bdc204cf1d59"
      },
      "execution_count": null,
      "outputs": [
        {
          "output_type": "stream",
          "name": "stdout",
          "text": [
            "{8, 84, 5, 7}\n",
            "monday is there\n",
            "mon\n",
            "tue\n",
            "wed\n",
            "thu\n",
            "fri\n",
            "sat\n",
            "sun\n"
          ]
        }
      ]
    },
    {
      "cell_type": "code",
      "source": [
        "#7.adding : you can add items  to a dictionary by assigning a value to a new key.\n",
        "dict = {}\n",
        "dict ['name'] = 'chanchal'\n",
        "dict ['roll no'] = '42'\n",
        "dict ['city'] = 'nashik'\n",
        "print(\"dictionary after adding infor\",dict)\n",
        "\n",
        "#modify:to modify item in dictionary you can assign a new value to an existing key.\n",
        "dict ['roll no'] = '32'\n",
        "print(\"dictionary after modefying\",dict)\n",
        "\n",
        "#delect : you can delect items using del statement or pop method.\n",
        "del dict['city']\n",
        "print(\"dictionary after delecting city\",dict)"
      ],
      "metadata": {
        "colab": {
          "base_uri": "https://localhost:8080/"
        },
        "id": "AVCwZYfD_h-o",
        "outputId": "65919fed-a272-4d6b-dd62-00a80f8862a9"
      },
      "execution_count": null,
      "outputs": [
        {
          "output_type": "stream",
          "name": "stdout",
          "text": [
            "dictionary after adding infor {'name': 'chanchal', 'roll no': '42', 'city': 'nashik'}\n",
            "dictionary after modefying {'name': 'chanchal', 'roll no': '32', 'city': 'nashik'}\n",
            "dictionary after delecting city {'name': 'chanchal', 'roll no': '32'}\n"
          ]
        }
      ]
    },
    {
      "cell_type": "markdown",
      "source": [
        "8.dictionary is a data structure that stores data as key value pair.\n",
        "keys are unique and immutable.\n",
        "boolean value also can be key.\n",
        "Importance of key begin immutable :\n",
        "\n",
        "Consistency : if key were mutable,changing a key would make it impossible.\n",
        "\n",
        "performance : the requirement for immutable keys enables efficient implementations of dictionaries."
      ],
      "metadata": {
        "id": "CPzjVJlCDEl9"
      }
    },
    {
      "cell_type": "code",
      "source": [
        "#8.Using string as a keys:\n",
        "dict = {\n",
        "    \"name\":\"chanchal\"\n",
        "}\n",
        "print(dict[\"name\"])\n",
        "#Using  tuple as keys:\n",
        "group = {\n",
        "    (2,6):\"point A\",\n",
        "    (3,8):\"point B\"\n",
        "}\n",
        "print(group[(2,6)])"
      ],
      "metadata": {
        "colab": {
          "base_uri": "https://localhost:8080/"
        },
        "id": "jfFzNJFiFDUs",
        "outputId": "f364f3f1-fe61-49ef-be13-62f2877d27b6"
      },
      "execution_count": null,
      "outputs": [
        {
          "output_type": "stream",
          "name": "stdout",
          "text": [
            "chanchal\n",
            "point A\n"
          ]
        }
      ]
    }
  ]
}