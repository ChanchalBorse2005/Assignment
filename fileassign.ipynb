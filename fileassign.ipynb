{
  "nbformat": 4,
  "nbformat_minor": 0,
  "metadata": {
    "colab": {
      "provenance": []
    },
    "kernelspec": {
      "name": "python3",
      "display_name": "Python 3"
    },
    "language_info": {
      "name": "python"
    }
  },
  "cells": [
    {
      "cell_type": "markdown",
      "source": [
        "1.\n",
        "\n",
        "1.Multithreading: Its ideal when tasks spend time waiting for output opertions.\n",
        "\n",
        "sharing data: when tasks need to access or modify shared data frequently\n",
        "\n",
        "2.Multiprocessing :It is use when we require lot of CPU time such as data processing,each process runs independently in its own memory space.\n",
        "\n",
        "When to use multithreading  tasks that wait often on the other hand multiprocessing"
      ],
      "metadata": {
        "id": "CEruukhtgJ_r"
      }
    },
    {
      "cell_type": "markdown",
      "source": [
        "2.\n",
        "\n",
        "A process pool is a collection of worker processes that can be reused to execute multiple tasks.\n",
        "\n",
        "It balances the work Distributes tasks among available worker processes, ensuring balanced load and efficient resource utilization.\n",
        "\n",
        "Parallel Execution: Allows parallel execution of tasks, improving performance for CPU-bound operations.\n",
        "\n"
      ],
      "metadata": {
        "id": "pYlTmTzTYmqX"
      }
    },
    {
      "cell_type": "markdown",
      "source": [
        "3.\n",
        "\n",
        "In Multiprocessing there are multiple processor ,each processor has its own memeory space . Run multiple tasks in parallel, utilizing multiple CPU cores.\n",
        "Multiprocessing is a module in Python that allows the creation of multiple processes, each with its own memory space.\n",
        "\n",
        "Suitable for tasks that are independent and can ru isolation.\n",
        "Ideal for CPU-bound tasks, it enhances performance by running tasks concurrently.\n",
        "\n"
      ],
      "metadata": {
        "id": "_ZaA8OE5NT-g"
      }
    },
    {
      "cell_type": "code",
      "source": [
        "#4\n",
        "import threading\n",
        "numbers = []\n",
        "lock = threading.Lock()\n",
        "\n",
        "#adding number\n",
        "def add_no():\n",
        "  global numbers\n",
        "  for i in range(10):\n",
        "    with lock:\n",
        "      numbers.append(i)\n",
        "    print(f'added{i}')\n",
        "\n",
        "#removing number\n",
        "def remove_no():\n",
        "  global numbers\n",
        "  for i in range(10):\n",
        "    with lock:\n",
        "      numb = numbers.pop(0)\n",
        "      print(f'romoved {numb}')\n",
        "\n",
        "thread1 = threading.Thread(target= add_no)\n",
        "thread2 = threading.Thread(target=remove_no)\n",
        "\n",
        "thread1.start()\n",
        "thread2.start()\n",
        "\n",
        "thread1.join()\n",
        "thread2.join()\n",
        "print(f'final list :{numbers}')"
      ],
      "metadata": {
        "colab": {
          "base_uri": "https://localhost:8080/"
        },
        "id": "g1IluGGAZj4k",
        "outputId": "54be662d-1cee-4ba5-b734-4a97c2402c17"
      },
      "execution_count": null,
      "outputs": [
        {
          "output_type": "stream",
          "name": "stderr",
          "text": [
            "Exception in thread Thread-11 (remove_no):\n",
            "Traceback (most recent call last):\n",
            "  File \"/usr/lib/python3.10/threading.py\", line 1016, in _bootstrap_inner\n",
            "    self.run()\n",
            "  File \"/usr/lib/python3.10/threading.py\", line 953, in run\n",
            "    self._target(*self._args, **self._kwargs)\n",
            "  File \"<ipython-input-11-daf1844389d4>\", line 19, in remove_no\n",
            "IndexError: pop from empty list\n"
          ]
        },
        {
          "output_type": "stream",
          "name": "stdout",
          "text": [
            "added0\n",
            "added1\n",
            "added2\n",
            "added3\n",
            "added4\n",
            "added5romoved 0\n",
            "romoved 1\n",
            "romoved 2\n",
            "romoved 3\n",
            "romoved 4\n",
            "romoved 5\n",
            "\n",
            "added6\n",
            "added7\n",
            "added8\n",
            "added9\n",
            "final list :[6, 7, 8, 9]\n"
          ]
        }
      ]
    },
    {
      "cell_type": "markdown",
      "source": [
        "5.\n",
        "\n",
        "Threading.Lock: Prevents race conditions by ensuring that only one thread accesses a shared resource at a time.\n",
        "\n",
        "queue.Queue: A thread-safe FIFO implementation for sharing data between threads.\n",
        "(first in first out)\n",
        "\n",
        "Processes:\n",
        "multiprocessing.Queue: A process-safe FIFO implementation for sharing data between processes.\n"
      ],
      "metadata": {
        "id": "1nDNRKt6gmAx"
      }
    },
    {
      "cell_type": "markdown",
      "source": [
        "6.Handling exception in concurrent programs prevents crashes.techniques like using try-except and logging help developers manage exception.by doing this it will happen\n"
      ],
      "metadata": {
        "id": "jcEsIDUmhv4B"
      }
    },
    {
      "cell_type": "code",
      "source": [
        "#7\n",
        "import concurrent.futures\n",
        "import math\n",
        "\n",
        "def factorial(n):\n",
        "    return math.factorial(n)\n",
        "\n",
        "numbers = list(range(1, 5))\n",
        "\n",
        "with concurrent.futures.ThreadPoolExecutor() as executor:\n",
        "    results = list(executor.map(factorial, numbers))\n",
        "\n",
        "print(f'Factorials: {results}')\n"
      ],
      "metadata": {
        "colab": {
          "base_uri": "https://localhost:8080/"
        },
        "id": "ubTjW4NjelvU",
        "outputId": "bdb2f1b1-4818-445b-d13a-f178e9c63fc1"
      },
      "execution_count": null,
      "outputs": [
        {
          "output_type": "stream",
          "name": "stdout",
          "text": [
            "Factorials: [1, 2, 6, 24]\n"
          ]
        }
      ]
    },
    {
      "cell_type": "code",
      "source": [
        "#8\n",
        "import multiprocessing\n",
        "import time\n",
        "\n",
        "def square(n):\n",
        "    return n * n\n",
        "\n",
        "def measure_time(pool_size):\n",
        "    numbers = list(range(1, 11))\n",
        "    pool = multiprocessing.Pool(processes=pool_size)\n",
        "\n",
        "    start_time = time.time()\n",
        "    results = pool.map(square, numbers)\n",
        "    pool.close()\n",
        "    pool.join()\n",
        "\n",
        "    end_time = time.time()\n",
        "    print(f'Pool size: {pool_size}, Time taken: {end_time - start_time:.4f}s')\n",
        "    return results\n"
      ],
      "metadata": {
        "id": "83lz-UpVe7hq"
      },
      "execution_count": null,
      "outputs": []
    }
  ]
}