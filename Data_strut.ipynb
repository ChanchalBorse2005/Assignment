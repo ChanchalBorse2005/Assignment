{
  "cells": [
    {
      "cell_type": "code",
      "execution_count": null,
      "metadata": {
        "colab": {
          "base_uri": "https://localhost:8080/"
        },
        "id": "F9wTFe8bLCh6",
        "outputId": "045146df-926c-4384-e78f-2ff1a38dde03"
      },
      "outputs": [
        {
          "name": "stdout",
          "output_type": "stream",
          "text": [
            "enter a string to reverse:chanchal\n",
            "lahcnahc\n"
          ]
        }
      ],
      "source": [
        "#1\n",
        "input_string = input(\"enter a string to reverse:\")\n",
        "reverse_string = input_string[::-1]\n",
        "print(reverse_string)"
      ]
    },
    {
      "cell_type": "code",
      "execution_count": null,
      "metadata": {
        "colab": {
          "background_save": true,
          "base_uri": "https://localhost:8080/"
        },
        "id": "IeE3HvdRMFHt",
        "outputId": "9576523f-4b7f-46f8-ed37-8f75e7971e1b"
      },
      "outputs": [
        {
          "name": "stdout",
          "output_type": "stream",
          "text": [
            "1\n",
            "2\n",
            "3\n",
            "4\n"
          ]
        }
      ],
      "source": [
        "#2\n",
        "input_string = input(\"enter a string:\")\n",
        "vowel = \"aeiou\"\n",
        "vowel_count = 0\n",
        "for char in input_string:\n",
        "  if char in vowel:\n",
        "    vowel_count +=1\n",
        "    print(vowel_count)\n",
        "\n",
        "input_string = input(\"enter a string\")\n",
        "vowel =\"aeiou\"\n",
        "vowel_count = 0\n",
        "for char in input_string:\n",
        "  if char in vowel:\n",
        "    vowel_count +=1\n",
        "    print(vowel_count)"
      ]
    },
    {
      "cell_type": "code",
      "execution_count": null,
      "metadata": {
        "colab": {
          "base_uri": "https://localhost:8080/"
        },
        "id": "gvrpnJeXPyLJ",
        "outputId": "ff8631a5-6dc1-4703-a78d-8905f178b1ec"
      },
      "outputs": [
        {
          "name": "stdout",
          "output_type": "stream",
          "text": [
            "enter a string:madam\n",
            "the string is a palindrome\n"
          ]
        }
      ],
      "source": [
        "#3\n",
        "def is_palindrome(input_string):\n",
        "  processed_string = input_string.replace(\" \",\"\").lower()\n",
        "  reversed_string = processed_string[::-1]\n",
        "  if processed_string == reversed_string:\n",
        "      return True\n",
        "  else:\n",
        "      return False\n",
        "user_input = input(\"enter a string:\")\n",
        "if is_palindrome(user_input):\n",
        "  print(\"the string is a palindrome\")\n",
        "else:\n",
        "  print(\"the string is not palidrome\")\n"
      ]
    },
    {
      "cell_type": "code",
      "execution_count": null,
      "metadata": {
        "id": "KqIjyNu0Q1bd"
      },
      "outputs": [],
      "source": [
        "#4\n",
        "def are_anagrams(str1,str2):\n",
        "  str1 = str1.replace(\" \",\"\").lower()\n",
        "  str2 = str2.replace(\" \",\"\").lower()\n",
        "  if sorted(str1) == sorted(str2):\n",
        "    return True\n",
        "  else:\n",
        "    return False\n",
        "string1 = input(\"enter the first string\")\n",
        "string2 = input(\"enter the second string\")\n",
        "if are_anagrams(string1,string2):\n",
        "  print(\"the string are anagrams\")\n",
        "else:\n",
        "  print(\"the string are not anagrams\")\n"
      ]
    },
    {
      "cell_type": "code",
      "source": [
        "#5\n",
        "def find_all_occurrences(main_string, substring):\n",
        "    start = 0\n",
        "    occurrences = []\n",
        "    while True:\n",
        "        start = main_string.find(substring, start)\n",
        "        if start == -1:\n",
        "            break\n",
        "        occurrences.append(start)\n",
        "        start += len(substring)  # Move past the last found occurrence\n",
        "    return occurrences\n",
        "\n",
        "# Example usage\n",
        "print(find_all_occurrences(\"hello world, hello universe\", \"hello\"))\n",
        "\n"
      ],
      "metadata": {
        "id": "bn6vKaw0674W"
      },
      "execution_count": null,
      "outputs": []
    },
    {
      "cell_type": "code",
      "source": [
        "#6\n",
        "def compress_string(s):\n",
        "    if not s:\n",
        "        return \"\"\n",
        "\n",
        "    compressed = []\n",
        "    count = 1\n",
        "\n",
        "    for i in range(1, len(s)):\n",
        "        if s[i] == s[i - 1]:\n",
        "            count += 1\n",
        "        else:\n",
        "            compressed.append(s[i - 1] + str(count))\n",
        "            count = 1\n",
        "\n",
        "    compressed.append(s[-1] + str(count))  # Add the last group\n",
        "    return ''.join(compressed)\n",
        "\n",
        "# Example usage\n",
        "print(compress_string(\"aaabbbccdaa\"))  # Output: \"a3b3c2d1a2\"\n"
      ],
      "metadata": {
        "id": "pzfWU3xz7b-d"
      },
      "execution_count": null,
      "outputs": []
    },
    {
      "cell_type": "code",
      "source": [
        "#7\n",
        "def has_unique_characters(s):\n",
        "    return len(set(s)) == len(s)\n",
        "\n",
        "# Example usage\n",
        "print(has_unique_characters(\"abcdefg\"))   # Output: True\n",
        "print(has_unique_characters(\"hello\"))      # Output: False\n"
      ],
      "metadata": {
        "id": "7XrQSUWk7f50"
      },
      "execution_count": null,
      "outputs": []
    },
    {
      "cell_type": "code",
      "source": [
        "#8\n",
        "def convert_case(s, to_upper=True):\n",
        "    return s.upper() if to_upper else s.lower()\n",
        "\n",
        "# Example usage\n",
        "print(convert_case(\"Hello World\", True))  # Output: \"HELLO WORLD\"\n",
        "print(convert_case(\"Hello World\", False)) # Output: \"hello world\"\n"
      ],
      "metadata": {
        "id": "fI7iYRw57ktF"
      },
      "execution_count": null,
      "outputs": []
    },
    {
      "cell_type": "code",
      "source": [
        "#9\n",
        "def count_words(s):\n",
        "    return len(s.split())\n",
        "\n",
        "# Example usage\n",
        "print(count_words(\"Hello world, this is a test.\"))  # Output: 7\n"
      ],
      "metadata": {
        "id": "p9pFB64u7oag"
      },
      "execution_count": null,
      "outputs": []
    },
    {
      "cell_type": "code",
      "source": [
        "#10\n",
        "def concatenate_strings(str1, str2):\n",
        "    return ''.join([str1, str2])\n",
        "\n",
        "# Example usage\n",
        "print(concatenate_strings(\"Hello \", \"World!\"))  # Output: \"Hello World!\"\n"
      ],
      "metadata": {
        "id": "SDZ9Hg9m7tFV"
      },
      "execution_count": null,
      "outputs": []
    },
    {
      "cell_type": "code",
      "source": [
        "#11\n",
        "def concatenate_strings(str1, str2):\n",
        "    return ''.join([str1, str2])\n",
        "\n",
        "# Example usage\n",
        "print(concatenate_strings(\"Hello \", \"World!\"))  # Output: \"Hello World!\"\n"
      ],
      "metadata": {
        "id": "3jDVJvHR74he"
      },
      "execution_count": null,
      "outputs": []
    },
    {
      "cell_type": "code",
      "source": [
        "#12\n",
        "def remove_element(lst, element):\n",
        "    return [x for x in lst if x != element]\n",
        "\n",
        "# Example usage\n",
        "print(remove_element([1, 2, 3, 2, 4], 2))  # Output: [1, 3, 4]\n"
      ],
      "metadata": {
        "id": "taFDpTK476n0"
      },
      "execution_count": null,
      "outputs": []
    },
    {
      "cell_type": "code",
      "source": [
        "#13\n",
        "def second_largest(lst):\n",
        "    unique_numbers = list(set(lst))  # Remove duplicates\n",
        "    unique_numbers.sort()              # Sort the list\n",
        "    return unique_numbers[-2] if len(unique_numbers) >= 2 else None\n",
        "\n",
        "# Example usage\n",
        "print(second_largest([3, 5, 1, 4, 5]))  # Output: 4\n"
      ],
      "metadata": {
        "id": "BM_knEv67-Yu"
      },
      "execution_count": null,
      "outputs": []
    },
    {
      "cell_type": "code",
      "source": [
        "#14\n",
        "def reverse_list(lst):\n",
        "    left = 0\n",
        "    right = len(lst) - 1\n",
        "\n",
        "    while left < right:\n",
        "        lst[left], lst[right] = lst[right], lst[left]  # Swap elements\n",
        "        left += 1\n",
        "        right -= 1\n",
        "\n",
        "# Example usage\n",
        "my_list = [1, 2, 3, 4]\n",
        "reverse_list(my_list)\n",
        "print(my_list)   # Output: [4, 3, 2, 1]\n"
      ],
      "metadata": {
        "id": "aAY5rPDK8ChS"
      },
      "execution_count": null,
      "outputs": []
    },
    {
      "cell_type": "code",
      "source": [
        "#15\n",
        "def remove_duplicates(lst):\n",
        "    seen = set()\n",
        "    result = []\n",
        "\n",
        "    for item in lst:\n",
        "        if item not in seen:\n",
        "            seen.add(item)\n",
        "            result.append(item)\n",
        "\n",
        "    return result\n",
        "\n",
        "# Example usage\n",
        "print(remove_duplicates([1, 2, 3, 2, 4]))\n",
        "# Output: [1, 2, 3, 4]\n"
      ],
      "metadata": {
        "id": "OMDFAJnf8IXT"
      },
      "execution_count": null,
      "outputs": []
    },
    {
      "cell_type": "code",
      "source": [
        "#16\n",
        "def is_sorted(lst):\n",
        "    return lst == sorted(lst) or lst == sorted(lst, reverse=True)\n",
        "\n",
        "# Example usage\n",
        "print(is_sorted([1, 2, 3, 4]))      # Output: True (ascending)\n",
        "print(is_sorted([4, 3, 2, 1]))      # Output: True (descending)\n",
        "print(is_sorted([1, 3, 2]))          # Output: False\n"
      ],
      "metadata": {
        "id": "LqOcivpc8MNe"
      },
      "execution_count": null,
      "outputs": []
    },
    {
      "cell_type": "code",
      "source": [
        "#17\n",
        "def merge_sorted_lists(list1, list2):\n",
        "    merged_list = []\n",
        "    i, j = 0, 0\n",
        "\n",
        "    while i < len(list1) and j < len(list2):\n",
        "        if list1[i] < list2[j]:\n",
        "            merged_list.append(list1[i])\n",
        "            i += 1\n",
        "        else:\n",
        "            merged_list.append(list2[j])\n",
        "            j += 1\n",
        "\n",
        "    # Append remaining elements from list1 or list2\n",
        "    merged_list.extend(list1[i:])\n",
        "    merged_list.extend(list2[j:])\n",
        "\n",
        "    return merged_list\n",
        "\n",
        "# Example usage\n",
        "print(merge_sorted_lists([1, 3, 5], [2, 4, 6]))  # Output: [1, 2, 3, 4, 5, 6]\n"
      ],
      "metadata": {
        "id": "f3OvoQHC8b5p"
      },
      "execution_count": null,
      "outputs": []
    },
    {
      "cell_type": "code",
      "source": [
        "#18\n",
        "def intersection(list1, list2):\n",
        "    return list(set(list1) & set(list2))\n",
        "\n",
        "# Example usage\n",
        "print(intersection([1, 2, 3], [2, 3, 4]))   # Output: [2, 3]\n"
      ],
      "metadata": {
        "id": "iv3oAvxM8e7J"
      },
      "execution_count": null,
      "outputs": []
    },
    {
      "cell_type": "code",
      "source": [
        "#19\n",
        "def union(list1, list2):\n",
        "    return list(set(list1) | set(list2))\n",
        "\n",
        "# Example usage\n",
        "print(union([1, 2, 3], [3, 4, 5]))   # Output: [1, 2, 3, 4, 5]\n"
      ],
      "metadata": {
        "id": "oMg9rnha8jki"
      },
      "execution_count": null,
      "outputs": []
    },
    {
      "cell_type": "code",
      "source": [
        "#20\n",
        "import random\n",
        "\n",
        "def shuffle_list(lst):\n",
        "    shuffled = lst[:]\n",
        "    n = len(shuffled)\n",
        "\n",
        "    for i in range(n):\n",
        "        # Generate a random index to swap with\n",
        "        j = random.randint(0, n - 1)\n",
        "        shuffled[i], shuffled[j] = shuffled[j], shuffled[i]  # Swap elements\n",
        "\n",
        "    return shuffled\n",
        "\n",
        "# Example usage\n",
        "print(shuffle_list([1, 2, 3, 4]))   # Output: A randomly shuffled version of the list\n"
      ],
      "metadata": {
        "id": "XbDs-Vek8mRu"
      },
      "execution_count": null,
      "outputs": []
    },
    {
      "cell_type": "code",
      "source": [
        "#21\n",
        "def common_elements(tuple1, tuple2):\n",
        "    return tuple(set(tuple1) & set(tuple2))\n",
        "\n",
        "# Example usage\n",
        "print(common_elements((1, 2, 3), (2, 3, 4)))  # Output: (2, 3)\n"
      ],
      "metadata": {
        "id": "c-YhnPTC8pYe"
      },
      "execution_count": null,
      "outputs": []
    },
    {
      "cell_type": "code",
      "source": [
        "#22\n",
        "def input_set_intersection():\n",
        "    set1_input = input(\"Enter the first set of integers separated by commas: \")\n",
        "    set2_input = input(\"Enter the second set of integers separated by commas: \")\n",
        "\n",
        "    set1 = set(map(int, set1_input.split(',')))\n",
        "    set2 = set(map(int, set2_input.split(',')))\n",
        "\n",
        "    intersection = set1 & set2\n",
        "    print(\"Intersection:\", intersection)\n",
        "\n",
        "# Example usage\n",
        "input_set_intersection()\n"
      ],
      "metadata": {
        "id": "lDKqKYEx812R"
      },
      "execution_count": null,
      "outputs": []
    },
    {
      "cell_type": "code",
      "source": [
        "#23\n",
        "def concatenate_tuples(tuple1, tuple2):\n",
        "    return tuple1 + tuple2\n",
        "\n",
        "# Example usage\n",
        "print(concatenate_tuples((1, 2), (3, 4)))  # Output: (1, 2, 3, 4)\n"
      ],
      "metadata": {
        "id": "KAFgEXG_85Eu"
      },
      "execution_count": null,
      "outputs": []
    },
    {
      "cell_type": "code",
      "source": [
        "#24\n",
        "def set_difference():\n",
        "    set1 = set(input(\"Enter first set of strings (comma-separated): \").split(','))\n",
        "    set2 = set(input(\"Enter second set of strings (comma-separated): \").split(','))\n",
        "    difference = set1 - set2\n",
        "    print(\"Elements in first set but not second:\", difference)\n",
        "\n",
        "# Example usage:\n",
        "# Input: \"apple,banana,orange\" and \"banana,grape\"\n",
        "# Output: {'apple', 'orange'}\n",
        "set_difference()\n"
      ],
      "metadata": {
        "id": "urT856Hq8_p_"
      },
      "execution_count": null,
      "outputs": []
    },
    {
      "cell_type": "code",
      "source": [
        "#25\n",
        "def slice_tuple(original_tuple, start, end):\n",
        "    return original_tuple[start:end]\n",
        "\n",
        "# Example usage:\n",
        "print(slice_tuple(('a', 'b', 'c', 'd', 'e'), 1, 4))  # Output: ('b', 'c', 'd')\n"
      ],
      "metadata": {
        "id": "dFj6Fq539SlR"
      },
      "execution_count": null,
      "outputs": []
    },
    {
      "cell_type": "code",
      "source": [
        "#26\n",
        "def char_union():\n",
        "    set1 = set(input(\"Enter first set of characters (comma-separated): \").split(','))\n",
        "    set2 = set(input(\"Enter second set of characters (comma-separated): \").split(','))\n",
        "    union = set1 | set2\n",
        "    print(\"Union:\", union)\n",
        "\n",
        "# Example usage:\n",
        "# Input: \"a,b,c\" and \"c,d,e\"\n",
        "# Output: {'a', 'b', 'c', 'd', 'e'}\n",
        "char_union()\n"
      ],
      "metadata": {
        "id": "Nd3vTv0p9WE1"
      },
      "execution_count": null,
      "outputs": []
    },
    {
      "cell_type": "code",
      "source": [
        "#27\n",
        "def char_union():\n",
        "    set1 = set(input(\"Enter first set of characters (comma-separated): \").split(','))\n",
        "    set2 = set(input(\"Enter second set of characters (comma-separated): \").split(','))\n",
        "    union = set1 | set2\n",
        "    print(\"Union:\", union)\n",
        "\n",
        "# Example usage:\n",
        "# Input: \"a,b,c\" and \"c,d,e\"\n",
        "# Output: {'a', 'b', 'c', 'd', 'e'}\n",
        "char_union()\n"
      ],
      "metadata": {
        "id": "2-k-0B-89yzq"
      },
      "execution_count": null,
      "outputs": []
    },
    {
      "cell_type": "code",
      "source": [
        "#28\n",
        "def max_min_tuple(numbers):\n",
        "    return max(numbers), min(numbers)\n",
        "\n",
        "# Example usage:\n",
        "values = (5, 2, 9, 1, 7)\n",
        "max_val, min_val = max_min_tuple(values)\n",
        "print(f\"Max: {max_val}, Min: {min_val}\")  # Output: Max: 9, Min: 1\n"
      ],
      "metadata": {
        "id": "bYCCPco992QG"
      },
      "execution_count": null,
      "outputs": []
    },
    {
      "cell_type": "code",
      "source": [
        "#29def set_operations():\n",
        "    setA = {1, 2, 3, 4}\n",
        "    setB = {3, 4, 5, 6}\n",
        "\n",
        "    print(\"Union:\", setA | setB)          # {1, 2, 3, 4, 5, 6}\n",
        "    print(\"Intersection:\", setA & setB)   # {3, 4}\n",
        "    print(\"Difference (A-B):\", setA - setB) # {1, 2}\n",
        "\n",
        "set_operations()\n"
      ],
      "metadata": {
        "id": "pDDN5UZ495j6"
      },
      "execution_count": null,
      "outputs": []
    },
    {
      "cell_type": "code",
      "source": [
        "#30\n",
        "def count_in_tuple(tpl, element):\n",
        "    return tpl.count(element)\n",
        "\n",
        "# Example usage:\n",
        "print(count_in_tuple(('a', 'b', 'a', 'c', 'a'), 'a'))  # Output: 3\n"
      ],
      "metadata": {
        "id": "7EPgNZJT9992"
      },
      "execution_count": null,
      "outputs": []
    },
    {
      "cell_type": "code",
      "source": [
        "#31\n",
        "def symmetric_diff():\n",
        "    set1 = set(input(\"Enter first set of strings (comma-separated): \").split(','))\n",
        "    set2 = set(input(\"Enter second set of strings (comma-separated): \").split(','))\n",
        "    symmetric = set1 ^ set2\n",
        "    print(\"Symmetric Difference:\", symmetric)\n",
        "\n",
        "# Example usage:\n",
        "# Input: \"apple,banana\" and \"banana,grape\"\n",
        "# Output: {'apple', 'grape'}\n",
        "symmetric_diff()\n"
      ],
      "metadata": {
        "id": "eEe2NXSQ-CCM"
      },
      "execution_count": null,
      "outputs": []
    },
    {
      "cell_type": "code",
      "source": [
        "#32\n",
        "def merge_dicts(dict1, dict2):\n",
        "    merged = {}\n",
        "    all_keys = dict1.keys() | dict2.keys()  # Union of keys from both dicts\n",
        "\n",
        "    for key in all_keys:\n",
        "        merged[key] = dict1.get(key, 0) + dict2.get(key, 0)\n",
        "\n",
        "    return merged\n",
        "\n",
        "# Example usage:\n",
        "dict_a = {'a': 10, 'b': 20}\n",
        "dict_b = {'b': 30, 'c': 40}\n",
        "print(merge_dicts(dict_a, dict_b))  # Output: {'a': 10, 'b': 50, 'c': 40}\n"
      ],
      "metadata": {
        "id": "6cUJYZb3-I3F"
      },
      "execution_count": null,
      "outputs": []
    },
    {
      "cell_type": "code",
      "source": [
        "#33\n",
        "def get_nested_value(dct, key_list):\n",
        "    current = dct\n",
        "    for key in key_list:\n",
        "        if isinstance(current, dict) and key in current:\n",
        "            current = current[key]\n",
        "        else:\n",
        "            return None\n",
        "    return current\n",
        "\n",
        "# Example usage:\n",
        "nested_dict = {'a': {'b': {'c': 100}}}\n",
        "print(get_nested_value(nested_dict, ['a', 'b', 'c']))  # Output: 100\n",
        "print(get_nested_value(nested_dict, ['a', 'x']))       # Output: None\n"
      ],
      "metadata": {
        "id": "hyaYOhYe-XfA"
      },
      "execution_count": null,
      "outputs": []
    },
    {
      "cell_type": "code",
      "source": [
        "#34\n",
        "def get_nested_value(dct, key_list):\n",
        "    current = dct\n",
        "    for key in key_list:\n",
        "        if isinstance(current, dict) and key in current:\n",
        "            current = current[key]\n",
        "        else:\n",
        "            return None\n",
        "    return current\n",
        "\n",
        "# Example usage:\n",
        "nested_dict = {'a': {'b': {'c': 100}}}\n",
        "print(get_nested_value(nested_dict, ['a', 'b', 'c']))  # Output: 100\n",
        "print(get_nested_value(nested_dict, ['a', 'x']))       # Output: None\n"
      ],
      "metadata": {
        "id": "fSa51Xod-als"
      },
      "execution_count": null,
      "outputs": []
    },
    {
      "cell_type": "code",
      "source": [
        "#35\n",
        "def sort_dict_by_values(dct, reverse=False):\n",
        "    return {k: v for k, v in sorted(dct.items(), key=lambda item: item[1], reverse=reverse)}\n",
        "\n",
        "# Example usage:\n",
        "scores = {'Alice': 90, 'Bob': 75, 'Charlie': 85}\n",
        "print(sort_dict_by_values(scores))            # Ascending order\n",
        "print(sort_dict_by_values(scores, True))      # Descending order\n"
      ],
      "metadata": {
        "id": "bJT74Gvl-gmZ"
      },
      "execution_count": null,
      "outputs": []
    },
    {
      "cell_type": "code",
      "source": [
        "#36\n",
        "def invert_dictionary(dct):\n",
        "    inverted = {}\n",
        "    for key, value in dct.items():\n",
        "        if value in inverted:\n",
        "            inverted[value].append(key)\n",
        "        else:\n",
        "            inverted[value] = [key]\n",
        "    return inverted\n",
        "\n",
        "# Example usage:\n",
        "original = {'a': 1, 'b': 2, 'c': 1}\n",
        "print(invert_dictionary(original))  # Output: {1: ['a', 'c'], 2: ['b']}\n"
      ],
      "metadata": {
        "id": "VhjYO0oK-kGG"
      },
      "execution_count": null,
      "outputs": []
    }
  ],
  "metadata": {
    "colab": {
      "provenance": []
    },
    "kernelspec": {
      "display_name": "Python 3",
      "name": "python3"
    },
    "language_info": {
      "name": "python"
    }
  },
  "nbformat": 4,
  "nbformat_minor": 0
}