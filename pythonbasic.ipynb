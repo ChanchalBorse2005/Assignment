{
  "nbformat": 4,
  "nbformat_minor": 0,
  "metadata": {
    "colab": {
      "provenance": []
    },
    "kernelspec": {
      "name": "python3",
      "display_name": "Python 3"
    },
    "language_info": {
      "name": "python"
    }
  },
  "cells": [
    {
      "cell_type": "code",
      "execution_count": null,
      "metadata": {
        "id": "6Pl-sZZduhwu"
      },
      "outputs": [],
      "source": []
    },
    {
      "cell_type": "markdown",
      "source": [
        "1.\n",
        "#Easy to code python is very easy language to code and understand.\n",
        "#Community support  python has vast community support who contribute to its growth.\n",
        "#Libraries and framework python has rich libaries like numpy ,pandas,tensorflow.\n",
        "#python is an interpreted language.\n"
      ],
      "metadata": {
        "id": "MbMTsTw4uirK"
      }
    },
    {
      "cell_type": "markdown",
      "source": [
        "2.\n",
        "predefine words in python has specific meaning and purpose . they cannot be used as  names for variable ,function, classes.\n",
        "\n",
        "key words:if, else,elif,while,class,objects,return,and ,or,not.\n",
        "\n",
        "\n",
        "Role of predefine keywords:\n",
        "if,else,elif,while are use  to give specific condition to code.\n",
        "\n",
        "class and object used in object oriented programming.\n",
        "\n",
        "or,and,not are used for to give a logic to a code.\n",
        "\n",
        "\n"
      ],
      "metadata": {
        "id": "e9AyLJD90aFx"
      }
    },
    {
      "cell_type": "markdown",
      "source": [
        "3.In python mutable objects are those objects that can be change after created .\n",
        "we can make the change in code.\n",
        "\n",
        "Mutable Objects =\n",
        "Lists,Dictionaries,Sets.\n",
        "\n",
        "In python Immutable objects are those objects that cannot  be  changed after creation  we cannot make the change in code.\n",
        "\n",
        "Immutable Objects =\n",
        "Integers,\n",
        "Strings,\n",
        "Tuples.\n",
        "\n"
      ],
      "metadata": {
        "id": "7AP4i5Dg3YEI"
      }
    },
    {
      "cell_type": "code",
      "source": [
        "#Immutable = string\n",
        "my_list = \"ok\"\n",
        "new_list = my_list + \"bye\"\n",
        "print(my_list)"
      ],
      "metadata": {
        "colab": {
          "base_uri": "https://localhost:8080/"
        },
        "id": "TxM_U7y36W89",
        "outputId": "0d698335-6762-455f-fff3-29ddf6fce679"
      },
      "execution_count": 3,
      "outputs": [
        {
          "output_type": "stream",
          "name": "stdout",
          "text": [
            "ok\n"
          ]
        }
      ]
    },
    {
      "cell_type": "code",
      "source": [
        "# Mutable = list\n",
        "my_list=[3,6,9,7,4]\n",
        "my_list.append(8)\n",
        "print(my_list)"
      ],
      "metadata": {
        "colab": {
          "base_uri": "https://localhost:8080/"
        },
        "id": "B-dnBKAx5tX_",
        "outputId": "0bbad041-719a-4269-94f3-4cf980d0b0c6"
      },
      "execution_count": 1,
      "outputs": [
        {
          "output_type": "stream",
          "name": "stdout",
          "text": [
            "[3, 6, 9, 7, 4, 8]\n"
          ]
        }
      ]
    },
    {
      "cell_type": "markdown",
      "source": [
        "python opertors = special keywords system are used to perform operation on values or variable\n",
        "\n",
        "1.Logical operator = AND operator, OR operator.\n",
        "\n",
        "2.not operator\n",
        "\n",
        "3.Assignment operator\n",
        "+addition\n",
        "-substraction\n",
        "/division\n",
        "%module\n",
        "\n",
        "4.membership operator\n",
        "\n",
        "5.identity operator\n",
        "\n",
        "6.bitwise operator\n",
        "\n",
        "7.negation\n",
        "\n",
        "8.Comparison operator\n"
      ],
      "metadata": {
        "id": "rqn6jRgn7gD0"
      }
    },
    {
      "cell_type": "code",
      "source": [
        "#Arithmetic operator\n",
        "a = 8\n",
        "b = 4\n",
        "print(a+b)\n",
        "print(a-b)\n",
        "print(a*b)\n",
        "print(a/b)\n",
        "print(a%b)\n"
      ],
      "metadata": {
        "colab": {
          "base_uri": "https://localhost:8080/"
        },
        "id": "ZHPhII0s9fC8",
        "outputId": "b2a83c5c-c423-4685-8055-03a73776b1ea"
      },
      "execution_count": 5,
      "outputs": [
        {
          "output_type": "stream",
          "name": "stdout",
          "text": [
            "12\n",
            "4\n",
            "32\n",
            "2.0\n",
            "0\n"
          ]
        }
      ]
    },
    {
      "cell_type": "code",
      "source": [
        "#Logical operator\n",
        "a = True\n",
        "b = False\n",
        "print (a and b)\n",
        "print (a or b)"
      ],
      "metadata": {
        "colab": {
          "base_uri": "https://localhost:8080/"
        },
        "id": "J7hjpYDr-z7z",
        "outputId": "1850c3ed-760e-4524-de30-19e6522e720a"
      },
      "execution_count": 8,
      "outputs": [
        {
          "output_type": "stream",
          "name": "stdout",
          "text": [
            "False\n",
            "True\n"
          ]
        }
      ]
    },
    {
      "cell_type": "code",
      "source": [
        "#bitwise operator\n",
        "a = 6\n",
        "b = 8\n",
        "print(a & b)"
      ],
      "metadata": {
        "colab": {
          "base_uri": "https://localhost:8080/"
        },
        "id": "r7-WrzuQ_pIz",
        "outputId": "c45b29b0-46f3-40d3-c09e-6309f20d7642"
      },
      "execution_count": 9,
      "outputs": [
        {
          "output_type": "stream",
          "name": "stdout",
          "text": [
            "0\n"
          ]
        }
      ]
    },
    {
      "cell_type": "code",
      "source": [
        "#comperison operator\n",
        "a = 7\n",
        "b = 8\n",
        "print (a<b)\n"
      ],
      "metadata": {
        "colab": {
          "base_uri": "https://localhost:8080/"
        },
        "id": "fgTuukz1ADXT",
        "outputId": "c3540211-0ce1-4557-ed00-f7a655eb6574"
      },
      "execution_count": 10,
      "outputs": [
        {
          "output_type": "stream",
          "name": "stdout",
          "text": [
            "True\n"
          ]
        }
      ]
    },
    {
      "cell_type": "markdown",
      "source": [
        "5.\n",
        "type casting means converting one data type into another\n",
        "There are two type of type casting  1.Implicit   2.Explicit\n",
        "\n",
        "Implicit =  this is automatic convertion this type of convertion is done automatically\n",
        "\n",
        "Explicit = this  conversion is done by human it mannualy conversion\n",
        "\n"
      ],
      "metadata": {
        "id": "yYz8KCfJ-Zx0"
      }
    },
    {
      "cell_type": "code",
      "source": [
        "#implicit\n",
        "a = 6\n",
        "b = 4.4\n",
        "add = a+b\n",
        "print(add)\n",
        "\n",
        "#explicit\n",
        "a = 6.4\n",
        "b = int(a)\n",
        "print(b)\n",
        "print(type(b))\n",
        "\n"
      ],
      "metadata": {
        "colab": {
          "base_uri": "https://localhost:8080/"
        },
        "id": "xkcaggRbCGt4",
        "outputId": "01d0d1f2-a87f-42e0-8444-355abc8022e9"
      },
      "execution_count": 18,
      "outputs": [
        {
          "output_type": "stream",
          "name": "stdout",
          "text": [
            "10.4\n",
            "6\n",
            "<class 'int'>\n"
          ]
        }
      ]
    },
    {
      "cell_type": "markdown",
      "source": [
        "6.\n",
        "Conditional statement helps you to code decisions based on some precondition\n",
        "\n",
        "if the condition is true block of code will excuted."
      ],
      "metadata": {
        "id": "1p-k9bEAC9FB"
      }
    },
    {
      "cell_type": "code",
      "source": [
        "a = 100\n",
        "if a>0:\n",
        "  print(\"the a is greater than 0\")"
      ],
      "metadata": {
        "colab": {
          "base_uri": "https://localhost:8080/"
        },
        "id": "Ro7ybqNeDjkJ",
        "outputId": "1f9448e6-d06e-4ee0-e88a-4ac88585e855"
      },
      "execution_count": 22,
      "outputs": [
        {
          "output_type": "stream",
          "name": "stdout",
          "text": [
            "the a is greater than 0\n"
          ]
        }
      ]
    },
    {
      "cell_type": "code",
      "source": [
        "x = 6\n",
        "if x > 5:\n",
        "  print(\"x is greater than 5\")\n",
        "else:\n",
        "  print(\"x is less than 5\")\n"
      ],
      "metadata": {
        "colab": {
          "base_uri": "https://localhost:8080/"
        },
        "id": "8YJiBOjZEAaE",
        "outputId": "87471380-4048-4f5d-f26e-90f48011d301"
      },
      "execution_count": 23,
      "outputs": [
        {
          "output_type": "stream",
          "name": "stdout",
          "text": [
            "x is greater than 5\n"
          ]
        }
      ]
    },
    {
      "cell_type": "markdown",
      "source": [
        "7.It allows you to excute a block of code repeatedly\n",
        "\n",
        "types =  for loop ,while loop\n",
        "\n",
        "while loop = repeatedly executed the code untily the condition is met\n",
        "\n",
        "for loop = iterate over a sequence of element"
      ],
      "metadata": {
        "id": "QzuAmjLgEy4_"
      }
    },
    {
      "cell_type": "code",
      "source": [
        "# for loop\n",
        "a = \"mybook\"\n",
        "for i in a:\n",
        "  print(i)\n"
      ],
      "metadata": {
        "colab": {
          "base_uri": "https://localhost:8080/"
        },
        "id": "IEjxJ-S1ITxO",
        "outputId": "9b67cfd1-d60f-4861-e99a-b5d0db5c5d6b"
      },
      "execution_count": 9,
      "outputs": [
        {
          "output_type": "stream",
          "name": "stdout",
          "text": [
            "m\n",
            "y\n",
            "b\n",
            "o\n",
            "o\n",
            "k\n"
          ]
        }
      ]
    }
  ]
}