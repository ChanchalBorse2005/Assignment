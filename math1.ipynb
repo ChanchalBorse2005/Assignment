{
  "nbformat": 4,
  "nbformat_minor": 0,
  "metadata": {
    "colab": {
      "provenance": []
    },
    "kernelspec": {
      "name": "python3",
      "display_name": "Python 3"
    },
    "language_info": {
      "name": "python"
    }
  },
  "cells": [
    {
      "cell_type": "markdown",
      "source": [
        "1.\n",
        "\n",
        "Quantitive data - The data that can be measure  in any value in a range .\n",
        "eg - no of children , no of mobile.\n",
        "\n",
        "1.Interval - The rank and order has meaning but it doesn't have compulsorily 0 starting value.\n",
        "eg-histogram.\n",
        "\n",
        "2.Ratio - Order and rank has a meaning.It does have 0 starting point compulsorily\n",
        "eg - Time,Age.\n",
        "\n",
        "Qualitative  data - The  data which is non - numerical and it's used to describe characteristics.\n",
        "eg - Rank,Color.  \n",
        "\n",
        "1.Nominal - Categories without any order  there is no order in the data .\n",
        "eg - pie chart,barplot.\n",
        "\n",
        "2.Ordinal - Categories with a specific order but no fixed interval between categories.\n",
        "eg - grades.\n"
      ],
      "metadata": {
        "id": "TCocnMqubdhv"
      }
    },
    {
      "cell_type": "markdown",
      "source": [
        "2.\n",
        "\n",
        "Measure of central tendency - Mean , Mode ,  Median.\n",
        "Mean - The average of all data points.\n",
        "\n",
        "eg - A = [3,4,5,8,9,2]\n",
        "     Mean =(3+4+5+8+9+2)/6 = 5\n",
        "\n",
        "Median - The middle value when data points are sorted.\n",
        "\n",
        "eg - A = [3,4,5,6,7]\n",
        "     Median = 5\n",
        "\n",
        "Mode - The most frequent value in the data .\n",
        "\n",
        "eg - A = [1,2,1,6,7,2,1]\n",
        "\n"
      ],
      "metadata": {
        "id": "lNPRg4jMgNR0"
      }
    },
    {
      "cell_type": "markdown",
      "source": [
        "3.\n",
        "\n",
        "Dispersion measures how spread out the data points are around the mean.\n",
        "\n",
        "Variance  gives us the average of the squared  differences between each data point and mean."
      ],
      "metadata": {
        "id": "Leo18i-5jcO_"
      }
    },
    {
      "cell_type": "markdown",
      "source": [
        "4.\n",
        "\n",
        "A box plot is a graphical representation of data showing the median,quartiles and outliers.\n",
        "\n",
        "It can tell you Centre of data , Outliers , Skewness .\n",
        "\n"
      ],
      "metadata": {
        "id": "pywEYSBylhkc"
      }
    },
    {
      "cell_type": "markdown",
      "source": [
        "5.\n",
        "\n",
        "Random sampling random sampling involves selecting a subset of individuals from population to estimate characteristic of whole population.\n",
        "\n",
        "\n",
        "Role : It helps make interences about populations without surveying the entire populations."
      ],
      "metadata": {
        "id": "I3IKf0hYncec"
      }
    },
    {
      "cell_type": "markdown",
      "source": [
        "6.\n",
        "\n",
        "Skewness measures of symmetricity.\n",
        "\n",
        "Types:\n",
        "Positive Skew,\n",
        "Negative Skew.\n",
        "\n",
        " Skewness affects data interpretation by indicating the direction and extent of asymmetry."
      ],
      "metadata": {
        "id": "redtQB2DoXYj"
      }
    },
    {
      "cell_type": "markdown",
      "source": [
        "7.\n",
        "\n",
        "Inter quartile range - is a range between 1st quartile and 3rd quartile.\n",
        "(Since IQR deal with Q1 and Q3,it is not affected by outlinear)\n",
        "\n",
        "IQR = Q3 - Q1.\n"
      ],
      "metadata": {
        "id": "JlKa3nDByCWC"
      }
    },
    {
      "cell_type": "markdown",
      "source": [
        "8.\n",
        "\n",
        "Binomial  distribution describes the number of successes in a fixed number of independent  trials, each with the same probability of success."
      ],
      "metadata": {
        "id": "SL1-E4T7zRpT"
      }
    },
    {
      "cell_type": "markdown",
      "source": [
        "9.\n",
        "\n",
        "Normal distribution is symmetrical .\n",
        "\n",
        "Mean=Mode=Median.\n",
        "\n",
        "Empricial rule - 68% 1st mean.\n",
        "\n",
        "95% 2nd mean.\n",
        "\n",
        "99.7% 2rd mean.\n",
        "\n"
      ],
      "metadata": {
        "id": "1W3ahgkzz41x"
      }
    },
    {
      "cell_type": "markdown",
      "source": [
        "10.\n",
        "\n",
        "A Poisson process models the number of events occurring within a fixed interval of time or space."
      ],
      "metadata": {
        "id": "EOi_BTXV0_Nu"
      }
    },
    {
      "cell_type": "markdown",
      "source": [
        "11.\n",
        "\n",
        "A random variable is a variable that takes on different numerical value based on the outcome.\n",
        "\n",
        "Discrete random variable - take countable number value\n",
        "\n",
        "\n",
        "Continous random variable -  take any infinite number  value with range."
      ],
      "metadata": {
        "id": "VbG6YJWg1jwu"
      }
    },
    {
      "cell_type": "markdown",
      "source": [
        "12.\n",
        "\n",
        "\n",
        "\n"
      ],
      "metadata": {
        "id": "lwK-14SY2q7t"
      }
    }
  ]
}