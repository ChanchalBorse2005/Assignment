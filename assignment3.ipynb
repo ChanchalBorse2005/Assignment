{
  "nbformat": 4,
  "nbformat_minor": 0,
  "metadata": {
    "colab": {
      "provenance": []
    },
    "kernelspec": {
      "name": "python3",
      "display_name": "Python 3"
    },
    "language_info": {
      "name": "python"
    }
  },
  "cells": [
    {
      "cell_type": "markdown",
      "source": [
        " 1.A function is a structured, resuable code block utilized for caarring out specific task basically function is a block of code which is when run when it is called .it is define using def keyword. on the other hand method are functions that belongs to objects.methods are defined inside classes."
      ],
      "metadata": {
        "id": "_i4rB01rSKW4"
      }
    },
    {
      "cell_type": "code",
      "source": [
        "#function\n",
        "def greeting(text):\n",
        "  return f\"hi\",{text}\n",
        "print(greeting(\"chanchal\"))\n",
        "\n",
        "#methods\n",
        "class car:\n",
        "  def __init__(self, name):\n",
        "    self.name = name\n",
        "  def thar(self):\n",
        "    return f\"{self.name} my car\"\n",
        "my_car = car(\"thar\")\n",
        "print(my_car.thar())\n",
        "\n",
        "\n",
        "\n"
      ],
      "metadata": {
        "colab": {
          "base_uri": "https://localhost:8080/"
        },
        "id": "V-bpDIXivC-T",
        "outputId": "4890d5a2-0379-4d2c-f3ec-ca244cb7bc29"
      },
      "execution_count": null,
      "outputs": [
        {
          "output_type": "stream",
          "name": "stdout",
          "text": [
            "('hi', {'chanchal'})\n",
            "hi, chanchal\n",
            "thar my car\n"
          ]
        }
      ]
    },
    {
      "cell_type": "markdown",
      "source": [
        "2.Parameters : It is basically a placeholder Variable passed into the function.Function can have multiple parameters or no.\n",
        "\n",
        "Argument : Argument is a actual value will calling the function, now it will fill the parameters with a specific value.\n",
        "\n",
        "So basically parameters are placeholder who holds place and arguments are the (palcetaker) values ."
      ],
      "metadata": {
        "id": "iqBtiK5FSObX"
      }
    },
    {
      "cell_type": "code",
      "source": [
        "#multiply\n",
        "#this are parameters\n",
        "def add(a,b):\n",
        "  return a+b\n",
        "  #this numbers are arguments\n",
        "value = add(3,7)\n",
        "print(value)\n"
      ],
      "metadata": {
        "id": "vtlL5igfSQ7A",
        "colab": {
          "base_uri": "https://localhost:8080/"
        },
        "outputId": "c656c9ee-a09f-48b1-f37e-d3af772f19d1"
      },
      "execution_count": null,
      "outputs": [
        {
          "output_type": "stream",
          "name": "stdout",
          "text": [
            "10\n"
          ]
        }
      ]
    },
    {
      "cell_type": "markdown",
      "source": [
        "3.function: It is block of code which when run when it is called.\n",
        "\n",
        "1.The regular simple way to define and call function\n",
        "\n",
        "2.Function with parameters.\n",
        "\n",
        "3Function with args.If the amount of arguments are not define we can use args.\n",
        "\n",
        "4.Lambda function is a small, function that is defined using the lambda keywords."
      ],
      "metadata": {
        "id": "oD3uP4e4SSYf"
      }
    },
    {
      "cell_type": "code",
      "source": [
        "def greet():\n",
        "  print (\"good morning\")\n",
        "def multiply(a,b):\n",
        "    return a*b\n",
        "def sum_all(*args):\n",
        "    return (args)\n",
        "sub = lambda x,y: x-y\n",
        "greet()\n",
        "result_multiply = multiply(4,6)\n",
        "print(f\"multiplication  is :{result_multiply}\")\n",
        "result_sum_all = sum_all(3,4,5,2,11)\n",
        "print(f\"sum of all :{result_sum_all}\")\n",
        "result_sub = sub(32,6)\n",
        "print(f\"substraction is :{result_sub}\")"
      ],
      "metadata": {
        "id": "TmBjt51fSVpi",
        "colab": {
          "base_uri": "https://localhost:8080/"
        },
        "outputId": "41edf376-7978-4344-d0fd-2efa463ea55a"
      },
      "execution_count": null,
      "outputs": [
        {
          "output_type": "stream",
          "name": "stdout",
          "text": [
            "good morning\n",
            "multiplication  is :24\n",
            "sum of all :(3, 4, 5, 2, 11)\n",
            "substraction is :26\n"
          ]
        }
      ]
    },
    {
      "cell_type": "markdown",
      "source": [
        "4.The purpose of return statement in python is used to exit function and send a value back.\n",
        "\n",
        "It allows a function to send computed value or sresult back to the program.\n",
        "\n",
        "It can be used to exit function at any time,function can return multiple values ."
      ],
      "metadata": {
        "id": "aGbo_PA8SWeC"
      }
    },
    {
      "cell_type": "code",
      "source": [
        "#4\n",
        "def addition(a,b):\n",
        "    return a+b\n",
        "print(addition(22,34))\n",
        "print(addition(29,14))\n",
        "print(addition(\"pw\",\"skills\"))\n",
        "print(addition([1,2,3],[6,4,2]))\n",
        "print(addition(b=\"skills\",a=\"pw\"))"
      ],
      "metadata": {
        "colab": {
          "base_uri": "https://localhost:8080/"
        },
        "id": "2o2tS5-lVBtj",
        "outputId": "dee81511-30e3-4bef-cfc7-073f255df402"
      },
      "execution_count": null,
      "outputs": [
        {
          "output_type": "stream",
          "name": "stdout",
          "text": [
            "56\n",
            "43\n",
            "pwskills\n",
            "[1, 2, 3, 6, 4, 2]\n",
            "pwskills\n"
          ]
        }
      ]
    },
    {
      "cell_type": "markdown",
      "source": [
        "5.iterator is an object representing a string of data one by one . iterator is created from an iterable using the iter funtion. it can created using for loop.\n",
        "\n",
        "It means  an iterable is an object that can be iterated , and iterator is mechanism that performs the iteration.Iteratables returns one at a time .\n",
        "\n",
        "\n"
      ],
      "metadata": {
        "id": "dvvRwhlRV6I4"
      }
    },
    {
      "cell_type": "code",
      "source": [
        "#iterable:\n",
        "roll_no = [22,33,11]\n",
        "for item in roll_no:\n",
        "  print(item)\n",
        "#iterator:\n",
        "roll_no = [5,9,2,9]\n",
        "no_iterator = iter(roll_no)\n",
        "print(next(no_iterator))\n",
        "print(next(no_iterator))\n"
      ],
      "metadata": {
        "id": "A95Ze6YqZL5Q",
        "colab": {
          "base_uri": "https://localhost:8080/"
        },
        "outputId": "c4af9a91-185b-4186-b85d-79ca99ce0610"
      },
      "execution_count": null,
      "outputs": [
        {
          "output_type": "stream",
          "name": "stdout",
          "text": [
            "22\n",
            "33\n",
            "11\n",
            "5\n",
            "9\n"
          ]
        }
      ]
    },
    {
      "cell_type": "markdown",
      "source": [
        "6.Generators in python is a special type of iterator that allows you to iterate over a sequence of values without storing entire memory.\n",
        "\n",
        "generator function define like regular function but it uses yield keyword  instead of return.\n",
        "\n",
        "syntax\n",
        "\n",
        "def generator_function():\n",
        "   yield value\n",
        "   "
      ],
      "metadata": {
        "id": "ISzevEx_Zx8m"
      }
    },
    {
      "cell_type": "code",
      "source": [
        "def number(n):\n",
        "  for i in range (1,n+1):\n",
        "    yield i\n",
        "gen = number(9)\n",
        "for numbers in gen:\n",
        "  print (numbers)"
      ],
      "metadata": {
        "colab": {
          "base_uri": "https://localhost:8080/"
        },
        "id": "mnatpD-xdmPw",
        "outputId": "da0abeb8-b489-4a68-c1cb-747b00070ba0"
      },
      "execution_count": null,
      "outputs": [
        {
          "output_type": "stream",
          "name": "stdout",
          "text": [
            "1\n",
            "2\n",
            "3\n",
            "4\n",
            "5\n",
            "6\n",
            "7\n",
            "8\n",
            "9\n"
          ]
        }
      ]
    },
    {
      "cell_type": "markdown",
      "source": [
        "7.Generators can simplify the code.you can use the yield keyword to create iterable sequence.by using generator we will get better performance."
      ],
      "metadata": {
        "id": "BDA18JU2FJPr"
      }
    },
    {
      "cell_type": "code",
      "source": [
        "def even_numbers(n):\n",
        "  for i in range (0,n+1,2):\n",
        "    yield i\n",
        "for even in even_numbers(10):\n",
        "      print(even)"
      ],
      "metadata": {
        "colab": {
          "base_uri": "https://localhost:8080/"
        },
        "id": "s4nhGbrFYEgZ",
        "outputId": "5b69cc7a-9649-4b71-ee11-82f99651922c"
      },
      "execution_count": null,
      "outputs": [
        {
          "output_type": "stream",
          "name": "stdout",
          "text": [
            "0\n",
            "2\n",
            "4\n",
            "6\n",
            "8\n",
            "10\n"
          ]
        }
      ]
    },
    {
      "cell_type": "markdown",
      "source": [
        "8.Lambda function is also known as anonymous funtion .\n",
        "It is define using lambda keywords.\n",
        "\n",
        "syntax:lambda arguments:expression\n",
        "\n",
        "Lambda function is used in situations where you do not want to formally define it using def key keyword.this function is used for sorting ."
      ],
      "metadata": {
        "id": "j1-UxOlJZdzr"
      }
    },
    {
      "cell_type": "code",
      "source": [
        "add = lambda x: x+4\n",
        "print(add(4))"
      ],
      "metadata": {
        "colab": {
          "base_uri": "https://localhost:8080/"
        },
        "id": "R3ZYC7vvawL0",
        "outputId": "ecd5c2e5-83bc-4cd8-fe02-7bff55cdb21a"
      },
      "execution_count": null,
      "outputs": [
        {
          "output_type": "stream",
          "name": "stdout",
          "text": [
            "8\n"
          ]
        }
      ]
    },
    {
      "cell_type": "markdown",
      "source": [
        "9.The map function is used to applies a given function to all item in an input iterable and returns iterable with result.\n",
        "\n",
        "Syntax: map(function,iterable)\n",
        "\n",
        "The purpose of map() function is to simplify the process of applying a function to every element in ac collection.It helps make your code more readable when we need to transform elements.\n"
      ],
      "metadata": {
        "id": "BZc6NLO2N4LO"
      }
    },
    {
      "cell_type": "code",
      "source": [
        "#9.\n",
        "num = [11,22,33,44]\n",
        "square_num = list(map(lambda x: x*x,num))\n",
        "print(square_num)"
      ],
      "metadata": {
        "id": "ICkyHPRsNGEz",
        "colab": {
          "base_uri": "https://localhost:8080/"
        },
        "outputId": "eef2bcb4-c7eb-4283-d38d-481a6d36dcd7"
      },
      "execution_count": null,
      "outputs": [
        {
          "output_type": "stream",
          "name": "stdout",
          "text": [
            "[121, 484, 1089, 1936]\n"
          ]
        }
      ]
    },
    {
      "cell_type": "markdown",
      "source": [
        "10.map(),reduce() and filter() are funtions.\n",
        "\n",
        "map():the map function applies  given function to all items in an input  iterable and returns an itertor with the results.\n",
        "\n",
        "\n",
        "reduce():the reduce function from the functools module applies a given function cumulatively to  the items of a sequence,from left to right,to reduce the sequence to a single value.\n",
        "\n",
        "filter():filter function constructs an iterator from elements of an iterable for which a specificed function return True."
      ],
      "metadata": {
        "id": "wKg1DYS1PQpx"
      }
    },
    {
      "cell_type": "code",
      "source": [
        "#map()\n",
        "numbers = [2,4,3,7]\n",
        "cube = list(map(lambda x:x*x*x,numbers))\n",
        "print(cube)\n",
        "#filter()\n",
        "numbers = [3,2,5,23,11]\n",
        "odd_numbers = list(filter(lambda x:x%2!=0,numbers))\n",
        "print(odd_numbers)\n",
        "#reduce()\n",
        "from functools  import reduce\n",
        "numbers = [4,8,7]\n",
        "all = reduce(lambda x,y:x+y,numbers)\n",
        "print(all)"
      ],
      "metadata": {
        "colab": {
          "base_uri": "https://localhost:8080/"
        },
        "id": "Pnpu1Q8eSx0M",
        "outputId": "140a3a6e-0045-42fe-c4df-ed387e74f6e7"
      },
      "execution_count": null,
      "outputs": [
        {
          "output_type": "stream",
          "name": "stdout",
          "text": [
            "[8, 64, 27, 343]\n",
            "[3, 5, 23, 11]\n",
            "19\n"
          ]
        }
      ]
    }
  ]
}